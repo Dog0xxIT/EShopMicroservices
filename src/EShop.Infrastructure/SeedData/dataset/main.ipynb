{
 "cells": [
  {
   "cell_type": "code",
   "execution_count": 1,
   "metadata": {},
   "outputs": [],
   "source": [
    "import pandas\n",
    "import random\n",
    "import datetime\n",
    "import time"
   ]
  },
  {
   "cell_type": "code",
   "execution_count": 2,
   "metadata": {},
   "outputs": [],
   "source": [
    "df = pandas.read_csv(\"./amazon_products.csv\")"
   ]
  },
  {
   "cell_type": "code",
   "execution_count": 3,
   "metadata": {},
   "outputs": [
    {
     "data": {
      "text/html": [
       "<div>\n",
       "<style scoped>\n",
       "    .dataframe tbody tr th:only-of-type {\n",
       "        vertical-align: middle;\n",
       "    }\n",
       "\n",
       "    .dataframe tbody tr th {\n",
       "        vertical-align: top;\n",
       "    }\n",
       "\n",
       "    .dataframe thead th {\n",
       "        text-align: right;\n",
       "    }\n",
       "</style>\n",
       "<table border=\"1\" class=\"dataframe\">\n",
       "  <thead>\n",
       "    <tr style=\"text-align: right;\">\n",
       "      <th></th>\n",
       "      <th>asin</th>\n",
       "      <th>title</th>\n",
       "      <th>imgUrl</th>\n",
       "      <th>productURL</th>\n",
       "      <th>stars</th>\n",
       "      <th>reviews</th>\n",
       "      <th>price</th>\n",
       "      <th>listPrice</th>\n",
       "      <th>category_id</th>\n",
       "      <th>isBestSeller</th>\n",
       "      <th>boughtInLastMonth</th>\n",
       "    </tr>\n",
       "  </thead>\n",
       "  <tbody>\n",
       "    <tr>\n",
       "      <th>0</th>\n",
       "      <td>B014TMV5YE</td>\n",
       "      <td>Sion Softside Expandable Roller Luggage, Black...</td>\n",
       "      <td>https://m.media-amazon.com/images/I/815dLQKYIY...</td>\n",
       "      <td>https://www.amazon.com/dp/B014TMV5YE</td>\n",
       "      <td>4.5</td>\n",
       "      <td>0</td>\n",
       "      <td>139.99</td>\n",
       "      <td>0.00</td>\n",
       "      <td>104</td>\n",
       "      <td>False</td>\n",
       "      <td>2000</td>\n",
       "    </tr>\n",
       "    <tr>\n",
       "      <th>1</th>\n",
       "      <td>B07GDLCQXV</td>\n",
       "      <td>Luggage Sets Expandable PC+ABS Durable Suitcas...</td>\n",
       "      <td>https://m.media-amazon.com/images/I/81bQlm7vf6...</td>\n",
       "      <td>https://www.amazon.com/dp/B07GDLCQXV</td>\n",
       "      <td>4.5</td>\n",
       "      <td>0</td>\n",
       "      <td>169.99</td>\n",
       "      <td>209.99</td>\n",
       "      <td>104</td>\n",
       "      <td>False</td>\n",
       "      <td>1000</td>\n",
       "    </tr>\n",
       "    <tr>\n",
       "      <th>2</th>\n",
       "      <td>B07XSCCZYG</td>\n",
       "      <td>Platinum Elite Softside Expandable Checked Lug...</td>\n",
       "      <td>https://m.media-amazon.com/images/I/71EA35zvJB...</td>\n",
       "      <td>https://www.amazon.com/dp/B07XSCCZYG</td>\n",
       "      <td>4.6</td>\n",
       "      <td>0</td>\n",
       "      <td>365.49</td>\n",
       "      <td>429.99</td>\n",
       "      <td>104</td>\n",
       "      <td>False</td>\n",
       "      <td>300</td>\n",
       "    </tr>\n",
       "    <tr>\n",
       "      <th>3</th>\n",
       "      <td>B08MVFKGJM</td>\n",
       "      <td>Freeform Hardside Expandable with Double Spinn...</td>\n",
       "      <td>https://m.media-amazon.com/images/I/91k6NYLQyI...</td>\n",
       "      <td>https://www.amazon.com/dp/B08MVFKGJM</td>\n",
       "      <td>4.6</td>\n",
       "      <td>0</td>\n",
       "      <td>291.59</td>\n",
       "      <td>354.37</td>\n",
       "      <td>104</td>\n",
       "      <td>False</td>\n",
       "      <td>400</td>\n",
       "    </tr>\n",
       "    <tr>\n",
       "      <th>4</th>\n",
       "      <td>B01DJLKZBA</td>\n",
       "      <td>Winfield 2 Hardside Expandable Luggage with Sp...</td>\n",
       "      <td>https://m.media-amazon.com/images/I/61NJoaZcP9...</td>\n",
       "      <td>https://www.amazon.com/dp/B01DJLKZBA</td>\n",
       "      <td>4.5</td>\n",
       "      <td>0</td>\n",
       "      <td>174.99</td>\n",
       "      <td>309.99</td>\n",
       "      <td>104</td>\n",
       "      <td>False</td>\n",
       "      <td>400</td>\n",
       "    </tr>\n",
       "  </tbody>\n",
       "</table>\n",
       "</div>"
      ],
      "text/plain": [
       "         asin                                              title  \\\n",
       "0  B014TMV5YE  Sion Softside Expandable Roller Luggage, Black...   \n",
       "1  B07GDLCQXV  Luggage Sets Expandable PC+ABS Durable Suitcas...   \n",
       "2  B07XSCCZYG  Platinum Elite Softside Expandable Checked Lug...   \n",
       "3  B08MVFKGJM  Freeform Hardside Expandable with Double Spinn...   \n",
       "4  B01DJLKZBA  Winfield 2 Hardside Expandable Luggage with Sp...   \n",
       "\n",
       "                                              imgUrl  \\\n",
       "0  https://m.media-amazon.com/images/I/815dLQKYIY...   \n",
       "1  https://m.media-amazon.com/images/I/81bQlm7vf6...   \n",
       "2  https://m.media-amazon.com/images/I/71EA35zvJB...   \n",
       "3  https://m.media-amazon.com/images/I/91k6NYLQyI...   \n",
       "4  https://m.media-amazon.com/images/I/61NJoaZcP9...   \n",
       "\n",
       "                             productURL  stars  reviews   price  listPrice  \\\n",
       "0  https://www.amazon.com/dp/B014TMV5YE    4.5        0  139.99       0.00   \n",
       "1  https://www.amazon.com/dp/B07GDLCQXV    4.5        0  169.99     209.99   \n",
       "2  https://www.amazon.com/dp/B07XSCCZYG    4.6        0  365.49     429.99   \n",
       "3  https://www.amazon.com/dp/B08MVFKGJM    4.6        0  291.59     354.37   \n",
       "4  https://www.amazon.com/dp/B01DJLKZBA    4.5        0  174.99     309.99   \n",
       "\n",
       "   category_id  isBestSeller  boughtInLastMonth  \n",
       "0          104         False               2000  \n",
       "1          104         False               1000  \n",
       "2          104         False                300  \n",
       "3          104         False                400  \n",
       "4          104         False                400  "
      ]
     },
     "execution_count": 3,
     "metadata": {},
     "output_type": "execute_result"
    }
   ],
   "source": [
    "df.head()"
   ]
  },
  {
   "cell_type": "code",
   "execution_count": 4,
   "metadata": {},
   "outputs": [
    {
     "data": {
      "text/plain": [
       "Index(['asin', 'title', 'imgUrl', 'productURL', 'stars', 'reviews', 'price',\n",
       "       'listPrice', 'category_id', 'isBestSeller', 'boughtInLastMonth'],\n",
       "      dtype='object')"
      ]
     },
     "execution_count": 4,
     "metadata": {},
     "output_type": "execute_result"
    }
   ],
   "source": [
    "df.columns"
   ]
  },
  {
   "cell_type": "code",
   "execution_count": 5,
   "metadata": {},
   "outputs": [],
   "source": [
    "#df = df.drop(axis=1, columns=[\"productURL\", \"listPrice\", \"isBestSeller\"])"
   ]
  },
  {
   "cell_type": "code",
   "execution_count": 6,
   "metadata": {},
   "outputs": [
    {
     "data": {
      "text/plain": [
       "<bound method DataFrame.count of                asin                                              title  \\\n",
       "0        B014TMV5YE  Sion Softside Expandable Roller Luggage, Black...   \n",
       "1        B07GDLCQXV  Luggage Sets Expandable PC+ABS Durable Suitcas...   \n",
       "2        B07XSCCZYG  Platinum Elite Softside Expandable Checked Lug...   \n",
       "3        B08MVFKGJM  Freeform Hardside Expandable with Double Spinn...   \n",
       "4        B01DJLKZBA  Winfield 2 Hardside Expandable Luggage with Sp...   \n",
       "...             ...                                                ...   \n",
       "1426332  B00R3LIKCO  American Flag Patriotic USA Classic 5 Panel Me...   \n",
       "1426333  B098BQ7ZQ3  Men's Baseball Cap - H2O-DRI Line Up Curved Br...   \n",
       "1426334  B07X1MVNT1  [4 Pack] Adjustable Eyeglasses and Sunglasses ...   \n",
       "1426335  B08XLBG8V9                          Ax2002 Aviator Sunglasses   \n",
       "1426336  B07GH67QC8  in Hoc Signo Vinces Knights Templar Masonic Em...   \n",
       "\n",
       "                                                    imgUrl  \\\n",
       "0        https://m.media-amazon.com/images/I/815dLQKYIY...   \n",
       "1        https://m.media-amazon.com/images/I/81bQlm7vf6...   \n",
       "2        https://m.media-amazon.com/images/I/71EA35zvJB...   \n",
       "3        https://m.media-amazon.com/images/I/91k6NYLQyI...   \n",
       "4        https://m.media-amazon.com/images/I/61NJoaZcP9...   \n",
       "...                                                    ...   \n",
       "1426332  https://m.media-amazon.com/images/I/71PDJFz6AA...   \n",
       "1426333  https://m.media-amazon.com/images/I/812Tycexs4...   \n",
       "1426334  https://m.media-amazon.com/images/I/61vvYW1S9J...   \n",
       "1426335  https://m.media-amazon.com/images/I/51+yjD4F1x...   \n",
       "1426336  https://m.media-amazon.com/images/I/91Kt2KQf0E...   \n",
       "\n",
       "                                   productURL  stars  reviews   price  \\\n",
       "0        https://www.amazon.com/dp/B014TMV5YE    4.5        0  139.99   \n",
       "1        https://www.amazon.com/dp/B07GDLCQXV    4.5        0  169.99   \n",
       "2        https://www.amazon.com/dp/B07XSCCZYG    4.6        0  365.49   \n",
       "3        https://www.amazon.com/dp/B08MVFKGJM    4.6        0  291.59   \n",
       "4        https://www.amazon.com/dp/B01DJLKZBA    4.5        0  174.99   \n",
       "...                                       ...    ...      ...     ...   \n",
       "1426332  https://www.amazon.com/dp/B00R3LIKCO    4.2        0   14.95   \n",
       "1426333  https://www.amazon.com/dp/B098BQ7ZQ3    4.4        0   33.99   \n",
       "1426334  https://www.amazon.com/dp/B07X1MVNT1    3.6        0    8.54   \n",
       "1426335  https://www.amazon.com/dp/B08XLBG8V9    4.5        0   54.36   \n",
       "1426336  https://www.amazon.com/dp/B07GH67QC8    4.9        0   18.79   \n",
       "\n",
       "         listPrice  category_id  isBestSeller  boughtInLastMonth  \n",
       "0             0.00          104         False               2000  \n",
       "1           209.99          104         False               1000  \n",
       "2           429.99          104         False                300  \n",
       "3           354.37          104         False                400  \n",
       "4           309.99          104         False                400  \n",
       "...            ...          ...           ...                ...  \n",
       "1426332       0.00          112         False                  0  \n",
       "1426333       0.00          112         False                  0  \n",
       "1426334       0.00          112         False                  0  \n",
       "1426335      57.39          112         False                  0  \n",
       "1426336       0.00          112         False                  0  \n",
       "\n",
       "[1426337 rows x 11 columns]>"
      ]
     },
     "execution_count": 6,
     "metadata": {},
     "output_type": "execute_result"
    }
   ],
   "source": [
    "df.columns\n",
    "df.count\n"
   ]
  },
  {
   "cell_type": "code",
   "execution_count": 7,
   "metadata": {},
   "outputs": [
    {
     "name": "stdout",
     "output_type": "stream",
     "text": [
      "File SQL đã được xuất thành công.\n"
     ]
    }
   ],
   "source": [
    "# Tạo file SQL với lệnh INSERT INTO\n",
    "\n",
    "\n",
    "with open('insert_products.sql', 'w', encoding='utf-8') as file:\n",
    "   \n",
    "\n",
    "   file.write(\n",
    "\"\"\"\n",
    "USE EShop\n",
    "GO\n",
    "\"\"\")\n",
    "\n",
    "   for index, row in df.iterrows():\n",
    "      sql = f\"\"\"\n",
    "INSERT INTO [dbo].[Products]\n",
    "   ([Sku] ,[Name] ,[Description] ,[Summary] ,[Price] ,\n",
    "   [ImageUrl],[CategoryId]  ,[BrandId] ,[Discount] ,[OtherAttributes] ,\n",
    "   [Created],[LastModified] ,[IsDeleted] ,[ReviewsCount] ,[Star] ,[TotalBuyers])\n",
    "VALUES\n",
    "   (\n",
    "      '{row['asin'].replace(\"'\", \"%27\")}'\n",
    "      ,'{row['title'].replace(\"'\", \"%27\")}'\n",
    "      ,'Description for {row['title'].replace(\"'\", \"%27\")}'\n",
    "      ,'Summary for {row['title'].replace(\"'\", \"%27\")}'\n",
    "      ,{row['price']}\n",
    "      ,'{row['imgUrl']}'\n",
    "      ,{row['category_id']}\n",
    "      ,{random.randint(1, 40)}\n",
    "      ,2 -- Discount mặc định là 0\n",
    "      ,N'Stars: {row['stars']}, BestSeller: {row['isBestSeller']}'\n",
    "      ,DATEDIFF(s, '1970-01-01 00:00:00', GETDATE())\n",
    "      ,DATEDIFF(s, '1970-01-01 00:00:00', GETDATE())\n",
    "      ,0 -- IsDeleted mặc định là false\n",
    "      ,{random.randint(1, 999999)} -- Số lượng đánh giá (ReviewsCount)\n",
    "      ,{row['stars']} -- Điểm đánh giá (Star)\n",
    "      ,{row['boughtInLastMonth']} -- Tổng số người mua (TotalBuyers)\n",
    "   );\n",
    "GO\n",
    "\"\"\"\n",
    "      file.write(sql)\n",
    "      if index == 30000:\n",
    "         break\n",
    "\n",
    "print(\"File SQL đã được xuất thành công.\")"
   ]
  },
  {
   "cell_type": "code",
   "execution_count": 8,
   "metadata": {},
   "outputs": [],
   "source": [
    "#df.to_csv('./final-products.csv')"
   ]
  }
 ],
 "metadata": {
  "kernelspec": {
   "display_name": "Python 3",
   "language": "python",
   "name": "python3"
  },
  "language_info": {
   "codemirror_mode": {
    "name": "ipython",
    "version": 3
   },
   "file_extension": ".py",
   "mimetype": "text/x-python",
   "name": "python",
   "nbconvert_exporter": "python",
   "pygments_lexer": "ipython3",
   "version": "3.12.6"
  }
 },
 "nbformat": 4,
 "nbformat_minor": 2
}
